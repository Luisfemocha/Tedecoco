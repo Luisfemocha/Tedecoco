{
  "nbformat": 4,
  "nbformat_minor": 0,
  "metadata": {
    "colab": {
      "name": "ChatBot.ipynb",
      "provenance": [],
      "authorship_tag": "ABX9TyOl+v7dhMbcG7Xc1nPyVXxD",
      "include_colab_link": true
    },
    "kernelspec": {
      "name": "python3",
      "display_name": "Python 3"
    }
  },
  "cells": [
    {
      "cell_type": "markdown",
      "metadata": {
        "id": "view-in-github",
        "colab_type": "text"
      },
      "source": [
        "<a href=\"https://colab.research.google.com/github/Luisfemocha/Tedecoco/blob/master/ChatBot.ipynb\" target=\"_parent\"><img src=\"https://colab.research.google.com/assets/colab-badge.svg\" alt=\"Open In Colab\"/></a>"
      ]
    },
    {
      "cell_type": "markdown",
      "metadata": {
        "id": "jSFhl-518v4-"
      },
      "source": [
        "#Se instalan las librerias \n"
      ]
    },
    {
      "cell_type": "code",
      "metadata": {
        "id": "f3Mpu9oe8mBs",
        "outputId": "dfc1021b-4da8-4994-e0f7-743ef786f613",
        "colab": {
          "base_uri": "https://localhost:8080/"
        }
      },
      "source": [
        "\n",
        "%%bash\n",
        "# instalar librerias\n",
        "pip3 install flask\n",
        "pip3 install chatterbot\n",
        "pip3 install chatterbot==1.0.1"
      ],
      "execution_count": null,
      "outputs": [
        {
          "output_type": "stream",
          "text": [
            "Requirement already satisfied: flask in /usr/local/lib/python3.6/dist-packages (1.1.2)\n",
            "Requirement already satisfied: Werkzeug>=0.15 in /usr/local/lib/python3.6/dist-packages (from flask) (1.0.1)\n",
            "Requirement already satisfied: itsdangerous>=0.24 in /usr/local/lib/python3.6/dist-packages (from flask) (1.1.0)\n",
            "Requirement already satisfied: click>=5.1 in /usr/local/lib/python3.6/dist-packages (from flask) (7.1.2)\n",
            "Requirement already satisfied: Jinja2>=2.10.1 in /usr/local/lib/python3.6/dist-packages (from flask) (2.11.2)\n",
            "Requirement already satisfied: MarkupSafe>=0.23 in /usr/local/lib/python3.6/dist-packages (from Jinja2>=2.10.1->flask) (1.1.1)\n",
            "Requirement already satisfied: chatterbot in /usr/local/lib/python3.6/dist-packages (1.0.1)\n",
            "Requirement already satisfied: sqlalchemy<1.3,>=1.2 in /usr/local/lib/python3.6/dist-packages (from chatterbot) (1.2.19)\n",
            "Requirement already satisfied: mathparse<0.2,>=0.1 in /usr/local/lib/python3.6/dist-packages (from chatterbot) (0.1.2)\n",
            "Requirement already satisfied: python-dateutil<2.8,>=2.7 in /usr/local/lib/python3.6/dist-packages (from chatterbot) (2.7.5)\n",
            "Requirement already satisfied: pymongo<4.0,>=3.3 in /usr/local/lib/python3.6/dist-packages (from chatterbot) (3.11.0)\n",
            "Requirement already satisfied: nltk<4.0,>=3.2 in /usr/local/lib/python3.6/dist-packages (from chatterbot) (3.2.5)\n",
            "Requirement already satisfied: pint>=0.8.1 in /usr/local/lib/python3.6/dist-packages (from chatterbot) (0.16.1)\n",
            "Requirement already satisfied: chatterbot-corpus<1.3,>=1.2 in /usr/local/lib/python3.6/dist-packages (from chatterbot) (1.2.0)\n",
            "Requirement already satisfied: six>=1.5 in /usr/local/lib/python3.6/dist-packages (from python-dateutil<2.8,>=2.7->chatterbot) (1.15.0)\n",
            "Requirement already satisfied: importlib-metadata; python_version < \"3.8\" in /usr/local/lib/python3.6/dist-packages (from pint>=0.8.1->chatterbot) (2.0.0)\n",
            "Requirement already satisfied: packaging in /usr/local/lib/python3.6/dist-packages (from pint>=0.8.1->chatterbot) (20.4)\n",
            "Requirement already satisfied: importlib-resources; python_version < \"3.7\" in /usr/local/lib/python3.6/dist-packages (from pint>=0.8.1->chatterbot) (3.3.0)\n",
            "Requirement already satisfied: PyYAML<4.0,>=3.12 in /usr/local/lib/python3.6/dist-packages (from chatterbot-corpus<1.3,>=1.2->chatterbot) (3.13)\n",
            "Requirement already satisfied: zipp>=0.5 in /usr/local/lib/python3.6/dist-packages (from importlib-metadata; python_version < \"3.8\"->pint>=0.8.1->chatterbot) (3.4.0)\n",
            "Requirement already satisfied: pyparsing>=2.0.2 in /usr/local/lib/python3.6/dist-packages (from packaging->pint>=0.8.1->chatterbot) (2.4.7)\n",
            "Requirement already satisfied: chatterbot==1.0.1 in /usr/local/lib/python3.6/dist-packages (1.0.1)\n",
            "Requirement already satisfied: pint>=0.8.1 in /usr/local/lib/python3.6/dist-packages (from chatterbot==1.0.1) (0.16.1)\n",
            "Requirement already satisfied: mathparse<0.2,>=0.1 in /usr/local/lib/python3.6/dist-packages (from chatterbot==1.0.1) (0.1.2)\n",
            "Requirement already satisfied: python-dateutil<2.8,>=2.7 in /usr/local/lib/python3.6/dist-packages (from chatterbot==1.0.1) (2.7.5)\n",
            "Requirement already satisfied: sqlalchemy<1.3,>=1.2 in /usr/local/lib/python3.6/dist-packages (from chatterbot==1.0.1) (1.2.19)\n",
            "Requirement already satisfied: pymongo<4.0,>=3.3 in /usr/local/lib/python3.6/dist-packages (from chatterbot==1.0.1) (3.11.0)\n",
            "Requirement already satisfied: chatterbot-corpus<1.3,>=1.2 in /usr/local/lib/python3.6/dist-packages (from chatterbot==1.0.1) (1.2.0)\n",
            "Requirement already satisfied: nltk<4.0,>=3.2 in /usr/local/lib/python3.6/dist-packages (from chatterbot==1.0.1) (3.2.5)\n",
            "Requirement already satisfied: importlib-metadata; python_version < \"3.8\" in /usr/local/lib/python3.6/dist-packages (from pint>=0.8.1->chatterbot==1.0.1) (2.0.0)\n",
            "Requirement already satisfied: importlib-resources; python_version < \"3.7\" in /usr/local/lib/python3.6/dist-packages (from pint>=0.8.1->chatterbot==1.0.1) (3.3.0)\n",
            "Requirement already satisfied: packaging in /usr/local/lib/python3.6/dist-packages (from pint>=0.8.1->chatterbot==1.0.1) (20.4)\n",
            "Requirement already satisfied: six>=1.5 in /usr/local/lib/python3.6/dist-packages (from python-dateutil<2.8,>=2.7->chatterbot==1.0.1) (1.15.0)\n",
            "Requirement already satisfied: PyYAML<4.0,>=3.12 in /usr/local/lib/python3.6/dist-packages (from chatterbot-corpus<1.3,>=1.2->chatterbot==1.0.1) (3.13)\n",
            "Requirement already satisfied: zipp>=0.5 in /usr/local/lib/python3.6/dist-packages (from importlib-metadata; python_version < \"3.8\"->pint>=0.8.1->chatterbot==1.0.1) (3.4.0)\n",
            "Requirement already satisfied: pyparsing>=2.0.2 in /usr/local/lib/python3.6/dist-packages (from packaging->pint>=0.8.1->chatterbot==1.0.1) (2.4.7)\n"
          ],
          "name": "stdout"
        }
      ]
    },
    {
      "cell_type": "markdown",
      "metadata": {
        "id": "8vm_6qHR82SP"
      },
      "source": [
        "#Se crean los archivos"
      ]
    },
    {
      "cell_type": "code",
      "metadata": {
        "id": "DwucKy3w8rol",
        "outputId": "4e5bfac5-cc70-4b3b-908b-59c39f31c87d",
        "colab": {
          "base_uri": "https://localhost:8080/"
        }
      },
      "source": [
        "!mkdir bot"
      ],
      "execution_count": null,
      "outputs": [
        {
          "output_type": "stream",
          "text": [
            "mkdir: cannot create directory ‘bot’: File exists\n"
          ],
          "name": "stdout"
        }
      ]
    },
    {
      "cell_type": "code",
      "metadata": {
        "id": "CGPNCjH0ABmX",
        "outputId": "ae44f44a-5f5c-4b8e-e72b-556eb6faf42e",
        "colab": {
          "base_uri": "https://localhost:8080/"
        }
      },
      "source": [
        "%%bash\n",
        "# en la carpeta bot crear el archivo sample.py y las carpetas templates y datos\n",
        "cd bot\n",
        "touch sample.py\n",
        "mkdir templates\n",
        "mkdir datos"
      ],
      "execution_count": null,
      "outputs": [
        {
          "output_type": "stream",
          "text": [
            "mkdir: cannot create directory ‘templates’: File exists\n",
            "mkdir: cannot create directory ‘datos’: File exists\n"
          ],
          "name": "stderr"
        }
      ]
    },
    {
      "cell_type": "code",
      "metadata": {
        "id": "iLcXN_G2ADmK"
      },
      "source": [
        "%%bash\n",
        "#ingresar a la carpeta templates y crear el archivo html\n",
        "cd bot/templates\n",
        "touch index.html"
      ],
      "execution_count": null,
      "outputs": []
    },
    {
      "cell_type": "markdown",
      "metadata": {
        "id": "L2hNEuPS9L6E"
      },
      "source": [
        "#Se escriben los archivos"
      ]
    },
    {
      "cell_type": "code",
      "metadata": {
        "id": "75fT2Mrc9USR"
      },
      "source": [
        "f = open(\"bot/templates/index.html\", \"w\")\n",
        "f.write('''<!DOCTYPE html>\n",
        "<html>\n",
        "<head>\n",
        "<script src=\"https://ajax.googleapis.com/ajax/libs/jquery/3.2.1/jquery.min.js\"></script>\n",
        "</head>\n",
        "<body>\n",
        "<hl>Chatbot 01</hl>\n",
        "<div>\n",
        "<div id=\"chatbox\">\n",
        "<p class=\"botText\"><span>Hola! Soy pepe.</span></p>\n",
        "</div>\n",
        "<div id= \"userInput\">\n",
        "<input id=\"textInput\" type=\"text\" name=\"msg\" placeholder=\"Message\">\n",
        "<input id=\"buttonInput\" type=\"submit\" value=\"Send\">\n",
        "</div>\n",
        "<script>\n",
        "function getBotResponse(){\n",
        "var rawText=$(\"#textInput\").val();\n",
        "var userHtml='<p class=\"userText\"><span>'+rawText+'</span></p>';\n",
        "$(\"#textInput\").val(\"\");\n",
        "$(\"#chatbox\").append(userHtml);\n",
        "document.getElementById('userInput').scrollIntoView({block:'start',behavior:'smooth'});\n",
        "$.get(\"/get\",{msg:rawText}).done(function(datos){\n",
        "var botHtml='<p class=\"botText\"><span>'+datos+'</span></p>';\n",
        "$(\"#chatbox\").append(botHtml);\n",
        "document.getElementById('userInput').scrollIntoView({block:'start',behaviour:'smooth'});\n",
        "                });\n",
        "            }\n",
        "            $(\"#textInput\").keypress(function(e){\n",
        " if(e.wich==13){\n",
        "              getBotResponse();\n",
        "                }\n",
        "            });\n",
        "            $(\"#buttonInput\").click(function(){\n",
        "                getBotResponse();\n",
        "            })\n",
        "        </script>\n",
        "    </div>   \n",
        "</body>   \n",
        "</html>\n",
        "''')\n",
        "f.close()\n",
        "\n",
        "f = open(\"bot/sample.py\", \"w\")\n",
        "f.write('''from flask import Flask,render_template,request\n",
        "from chatterbot import ChatBot\n",
        "from chatterbot.trainers import ChatterBotCorpusTrainer \n",
        "from chatterbot.trainers import ListTrainer\n",
        "\n",
        "\n",
        "app= Flask(__name__) # nombre del modulo o el paquete\n",
        "spa_bot = ChatBot(\"Ron Obvious\", read_only=True)\n",
        "conversation = [\n",
        "    'No te entendí, replantea tu pregunta',\n",
        "    'Hola',\n",
        "    'En que puedo ayudarte?',\n",
        "    'Quienes son tus creadores?',\n",
        "    'Ellos son: Luis Felipe Moreno Chamorro, Kevin Danilo Arias Buitrago, Michael Stiwar Zapata Agudelo, Juan José Hurtado Álvarez, Julian Esteban Carvajal, Federico Milotta y Juan Felipe Valencia'\n",
        "    'Que tipos de reglas hay?',\n",
        "    'Reglas de conexion, de herencia y de flujo, también existen los eventos y la relación tiene',\n",
        "    'Regla de conexion?',\n",
        "    'En todos los casos que se conecten algún elemento con otro o con alguna flecha, se debe conectar correctamente, no se puede dejar sólo la conexión visible.',\n",
        "    'Regla de herencia?',\n",
        "    'En algunos conceptos similares se implementará algo parecido a la herencia de una clase  abstracta, el formato que usaremos es el siguiente: La clase abstracta irá en un cuadro punteado (como las notas) y de ahí saldrá una línea hacia los conceptos similares.',\n",
        "    'Regla de flujo',\n",
        "    'El diagrama completo respeta un flujo. Para tener un Formulario, una Tabla o un Botón  se debe tener una Vista, cuando un Botón se conecta a una Vista, la flecha que los une debe de estar en la dirección Botón→ Vista',\n",
        "    'Eventos',\n",
        "    'Los eventos se crean al conectar los elementos ‘BOTON’ a otro elemento. Para estos se debe respetar el flujo que tiene la flecha, es decir, la punta termina donde llega el evento. En el caso de que haya un botón que lleve a otra vista, se denotará con un cuadrado que comience con la palabra ‘BOTON’ seguido del texto que irá dentro de este, y con una flecha se denota la vista a la que lleva.',\n",
        "    'Relacion tiene',\n",
        "    'Esta se denota como un óvalo de línea continua al que le entran flechas y le salen flechas, esta se usa como intersección para explicar la relación que tiene un elemento con otros. Esta relación al ser usada siempre debe tener un flujo que entra y n flujos que salen (n mayor a 0).',\n",
        "    'Vistas',\n",
        "    'Las vistas se definen con la palabra ‘VISTA’ seguido del nombre de la vista dentro de un rectángulo de línea continua. Para denotar lo que tiene se conecta a un óvalo con la palabra ‘tiene’ y se conectan las flechas a los elementos.',\n",
        "    'Botones',\n",
        "    'Los botones se denotan con la palabra ‘BOTON’ seguida del nombre dentro de un rectángulo de línea continua. Hay dos tipos de botones dependiendo de su funcionalidad. Los que llevan a vistas y los que tienen funciones específicas.',\n",
        "    'Formularios',\n",
        "    'Los formularios se denotan con la palabra ‘FORM’ seguida del nombre del formulario dentro de un rectángulo de línea continua. Al igual que en las vistas, estos elementos se deben conectar a una relación ‘tiene’ (como está expresado en la imagen, dentro de un óvalo de línea continua) que se conecta a un elemento ‘atributo’.',\n",
        "    'Tablas',\n",
        "    'Las tablas se deben denotar sólo con la palabra ‘TABLA’ dentro de un rectángulo de línea contínua. Esta se conecta por medio de una relación ‘tiene’ al contenido, este después se conecta directamente a un elemento ‘atributo’ para demostrar las columnas que puede tener la tabla.',\n",
        "    'Atributos',\n",
        "    'La forma de expresar que un concepto tiene atributos será un poco diferente al EP clásico, por ejemplo, se puede tener un formulario cuyos campos se denotan con un cuadrado de línea punteada (elemento ‘atributo’), cada campo debe respetar la siguiente sintaxis: Primero se agrega un asterisco (*), luego se escribe su nombre, dos puntos (:), el tipo de dato que puede ingresar y se debe terminar con un punto y coma (;). Estos campos pueden ser compartidos por conceptos en diferentes vistas.'\n",
        "    'Hablame de la regla de conexion?',\n",
        "    'En todos los casos que se conecten algún elemento con otro o con alguna flecha, se debe conectar correctamente, no se puede dejar sólo la conexión visible.',\n",
        "    'Hablame de la regla de herencia?',\n",
        "    'En algunos conceptos similares se implementará algo parecido a la herencia de una clase  abstracta, el formato que usaremos es el siguiente: La clase abstracta irá en un cuadro punteado (como las notas) y de ahí saldrá una línea hacia los conceptos similares.',\n",
        "    'Hablame de la regla de flujo',\n",
        "    'El diagrama completo respeta un flujo. Para tener un Formulario, una Tabla o un Botón  se debe tener una Vista, cuando un Botón se conecta a una Vista, la flecha que los une debe de estar en la dirección Botón→ Vista',\n",
        "    'Hablame de los eventos',\n",
        "    'Los eventos se crean al conectar los elementos ‘BOTON’ a otro elemento. Para estos se debe respetar el flujo que tiene la flecha, es decir, la punta termina donde llega el evento. En el caso de que haya un botón que lleve a otra vista, se denotará con un cuadrado que comience con la palabra ‘BOTON’ seguido del texto que irá dentro de este, y con una flecha se denota la vista a la que lleva.',\n",
        "    'Hablame de la relacion tiene',\n",
        "    'Esta se denota como un óvalo de línea continua al que le entran flechas y le salen flechas, esta se usa como intersección para explicar la relación que tiene un elemento con otros. Esta relación al ser usada siempre debe tener un flujo que entra y n flujos que salen (n mayor a 0).',\n",
        "    'Que elementos tenemos?',\n",
        "    'Tenemos vistas, botones, formularios, tablas y atributos',\n",
        "    'Hablame de las vistas',\n",
        "    'Las vistas se definen con la palabra ‘VISTA’ seguido del nombre de la vista dentro de un rectángulo de línea continua. Para denotar lo que tiene se conecta a un óvalo con la palabra ‘tiene’ y se conectan las flechas a los elementos.',\n",
        "    'Hablame de los botones',\n",
        "    'Los botones se denotan con la palabra ‘BOTON’ seguida del nombre dentro de un rectángulo de línea continua. Hay dos tipos de botones dependiendo de su funcionalidad. Los que llevan a vistas y los que tienen funciones específicas.',\n",
        "    'Hablame de los formularios',\n",
        "    'Los formularios se denotan con la palabra ‘FORM’ seguida del nombre del formulario dentro de un rectángulo de línea continua. Al igual que en las vistas, estos elementos se deben conectar a una relación ‘tiene’ (como está expresado en la imagen, dentro de un óvalo de línea continua) que se conecta a un elemento ‘atributo’.',\n",
        "    'Hablame de las tablas',\n",
        "    'Las tablas se deben denotar sólo con la palabra ‘TABLA’ dentro de un rectángulo de línea contínua. Esta se conecta por medio de una relación ‘tiene’ al contenido, este después se conecta directamente a un elemento ‘atributo’ para demostrar las columnas que puede tener la tabla.',\n",
        "    'Hablame de los atributos',\n",
        "    'La forma de expresar que un concepto tiene atributos será un poco diferente al EP clásico, por ejemplo, se puede tener un formulario cuyos campos se denotan con un cuadrado de línea punteada (elemento ‘atributo’), cada campo debe respetar la siguiente sintaxis: Primero se agrega un asterisco (*), luego se escribe su nombre, dos puntos (:), el tipo de dato que puede ingresar y se debe terminar con un punto y coma (;). Estos campos pueden ser compartidos por conceptos en diferentes vistas.'\n",
        "    'Que opciones tiene este chatbot?',\n",
        "    'Puedes preguntarme que tipos de reglas hay, tambien puedes pedirme que te hable de cada una, preguntar que elementos tenemos y que te hable de cada uno de ellos, y finalmente preguntar quienes son mis creadores :3',\n",
        "    'Que sabes?',\n",
        "    'Puedes preguntarme que tipos de reglas hay, tambien puedes pedirme que te hable de cada una, preguntar que elementos tenemos y que te hable de cada uno de ellos, y finalmente preguntar quienes son mis creadores UwU',\n",
        "    'Gracias',\n",
        "    'No hay de qué, agradecele a mis creadores',\n",
        "    'Hasta luego',\n",
        "    'Para servirte',\n",
        "    'Adios',\n",
        "    'Cuidate',\n",
        "]\n",
        "\n",
        "trainer = ListTrainer(spa_bot)\n",
        "\n",
        "trainer.train(conversation)\n",
        "\n",
        "@app.route('/')\n",
        "def index():\n",
        "    return render_template(\"index.html\")  #ENVIAR A HTML\n",
        "\n",
        "@app.route('/get')\n",
        "def get_bot_response():\n",
        "    userText=request.args.get(\"msg\")  #tomar datos de la entrada, escribimos js en el index.html\n",
        "    return str(spa_bot.get_response(userText.capitalize()))\n",
        "\n",
        "\n",
        "if __name__==\"__main__\":\n",
        "    app.run()\n",
        "''')\n",
        "f.close()"
      ],
      "execution_count": null,
      "outputs": []
    },
    {
      "cell_type": "markdown",
      "metadata": {
        "id": "69L-J-fL9a24"
      },
      "source": [
        "#Se consulta el link del bot\n"
      ]
    },
    {
      "cell_type": "code",
      "metadata": {
        "id": "eCpf-AJY9ef1",
        "outputId": "82205235-f448-420b-a48f-a8837145038f",
        "colab": {
          "base_uri": "https://localhost:8080/",
          "height": 34
        }
      },
      "source": [
        "# Consultamos la dirección URL del servidor colab\n",
        "from google.colab.output import eval_js\n",
        "print(eval_js(\"google.colab.kernel.proxyPort(5000)\"))"
      ],
      "execution_count": null,
      "outputs": [
        {
          "output_type": "stream",
          "text": [
            "https://ph6kl7t6l0h-496ff2e9c6d22116-5000-colab.googleusercontent.com/\n"
          ],
          "name": "stdout"
        }
      ]
    },
    {
      "cell_type": "markdown",
      "metadata": {
        "id": "RsfkNIKM9iBF"
      },
      "source": [
        "#Se ejecutan los archivos y se ingresa al link de arriba"
      ]
    },
    {
      "cell_type": "code",
      "metadata": {
        "id": "FSUAVl-W9mFp",
        "outputId": "02ae8e2f-abe0-4496-fd55-178aa3bc58d3",
        "colab": {
          "base_uri": "https://localhost:8080/"
        }
      },
      "source": [
        "%%bash\n",
        "cd bot\n",
        "python3 sample.py"
      ],
      "execution_count": null,
      "outputs": [
        {
          "output_type": "stream",
          "text": [
            "Process is terminated.\n"
          ],
          "name": "stdout"
        }
      ]
    }
  ]
}